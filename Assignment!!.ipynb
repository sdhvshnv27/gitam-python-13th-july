{
 "cells": [
  {
   "cell_type": "markdown",
   "metadata": {},
   "source": [
    "# Assignment!!"
   ]
  },
  {
   "cell_type": "code",
   "execution_count": 1,
   "metadata": {},
   "outputs": [],
   "source": [
    "# Question - Draw a Spirling Square with Pen color as 'Red'.\n",
    "import turtle as t\n",
    "a1 = t.Turtle()\n",
    "a1.pencolor('red')\n",
    "for i in range(250):\n",
    "    a1.forward(i)\n",
    "    a1.left(91)\n",
    "t.done()"
   ]
  },
  {
   "cell_type": "code",
   "execution_count": 4,
   "metadata": {},
   "outputs": [
    {
     "name": "stdout",
     "output_type": "stream",
     "text": [
      "9\n",
      "7\n"
     ]
    }
   ],
   "source": [
    "def printlarge(n):\n",
    "    large=0\n",
    "    while n!=0:\n",
    "        r=n%10\n",
    "        if large<r:\n",
    "              large=r\n",
    "        n=n//10\n",
    "    return large\n",
    "print(printlarge(195263))\n",
    "print(printlarge(36372))\n",
    "\n"
   ]
  },
  {
   "cell_type": "markdown",
   "metadata": {},
   "source": [
    "###  python programming to create and find the word count from given input file"
   ]
  },
  {
   "cell_type": "code",
   "execution_count": 9,
   "metadata": {},
   "outputs": [
    {
     "name": "stdout",
     "output_type": "stream",
     "text": [
      "File is created and data has written\n"
     ]
    }
   ],
   "source": [
    "#  python programming to create and find the word count from given input file\n",
    "#If the file is contains same word then you need to print the output count\n",
    "# Function to create a file and write to the file\n",
    "def createFile(filename):\n",
    "    f = open(filename,'w')\n",
    "    for i in range(10):\n",
    "        f.write('This is %d Line\\n' % i)\n",
    "    print(\"File is created and data has written\")\n",
    "    return \n",
    "createFile('file8.txt')"
   ]
  },
  {
   "cell_type": "code",
   "execution_count": 10,
   "metadata": {},
   "outputs": [
    {
     "name": "stdout",
     "output_type": "stream",
     "text": [
      " Volume in drive C has no label.\n",
      " Volume Serial Number is 064D-5751\n",
      "\n",
      " Directory of C:\\Users\\Comp1\n",
      "\n",
      "07/13/2019  02:32 PM    <DIR>          .\n",
      "07/13/2019  02:32 PM    <DIR>          ..\n",
      "07/05/2019  04:59 PM    <DIR>          .anaconda\n",
      "07/05/2019  03:43 PM             5,557 .bash_history\n",
      "07/13/2019  02:32 PM    <DIR>          .conda\n",
      "07/13/2019  09:10 AM                43 .condarc\n",
      "07/05/2019  05:40 PM             1,329 .ipynb\n",
      "07/13/2019  02:20 PM    <DIR>          .ipynb_checkpoints\n",
      "07/05/2019  05:03 PM    <DIR>          .ipython\n",
      "07/08/2019  02:50 PM    <DIR>          .jupyter\n",
      "07/09/2019  02:26 PM    <DIR>          .matplotlib\n",
      "07/10/2019  03:59 PM            15,248 10th july.ipynb\n",
      "07/11/2019  03:28 PM            23,300 11th july.ipynb\n",
      "07/12/2019  03:19 PM         4,351,402 12th july.ipynb\n",
      "07/13/2019  12:43 PM            10,914 13th july.ipynb\n",
      "07/11/2019  10:29 AM             5,514 5th july.ipynb\n",
      "07/11/2019  12:50 PM             7,864 6th july.ipynb\n",
      "07/09/2019  03:09 PM             9,813 8th july.ipynb\n",
      "07/09/2019  03:12 PM            13,152 9th july.ipynb\n",
      "07/05/2019  04:57 PM    <DIR>          Anaconda3\n",
      "07/10/2019  03:17 PM             4,391 Assignment!!!.ipynb\n",
      "07/13/2019  02:31 PM             3,555 Assignment!!.ipynb\n",
      "05/08/2019  10:46 AM    <DIR>          Contacts\n",
      "07/13/2019  12:46 PM    <DIR>          Desktop\n",
      "07/05/2019  04:57 PM    <DIR>          Documents\n",
      "07/12/2019  03:22 PM    <DIR>          Downloads\n",
      "06/04/2019  11:08 PM    <DIR>          Favorites\n",
      "07/11/2019  10:40 AM                18 file.txt\n",
      "07/11/2019  09:36 AM               160 file1.txt\n",
      "07/11/2019  10:31 AM                16 file10.txt\n",
      "07/13/2019  02:32 PM               160 file8.txt\n",
      "07/11/2019  09:47 AM               160 file9.txt\n",
      "07/11/2019  02:16 PM    <DIR>          git\n",
      "07/11/2019  02:18 PM    <DIR>          Gith\n",
      "06/04/2019  11:08 PM    <DIR>          Links\n",
      "05/08/2019  10:46 AM    <DIR>          Music\n",
      "07/11/2019  10:26 AM                16 name.txt\n",
      "07/06/2019  02:41 PM    <DIR>          OneDrive\n",
      "05/08/2019  10:46 AM    <DIR>          Pictures\n",
      "05/08/2019  10:46 AM    <DIR>          Saved Games\n",
      "05/08/2019  10:46 AM    <DIR>          Searches\n",
      "07/09/2019  04:04 PM             2,064 Untitled.ipynb\n",
      "07/10/2019  11:06 AM    <DIR>          Videos\n",
      "07/09/2019  03:57 PM               960 welcome to python.ipynb\n",
      "07/11/2019  10:03 AM               960 welcome to python-Copy1.ipynb\n",
      "              22 File(s)      4,456,596 bytes\n",
      "              23 Dir(s)  280,248,598,528 bytes free\n"
     ]
    }
   ],
   "source": [
    "ls\n"
   ]
  },
  {
   "cell_type": "code",
   "execution_count": 13,
   "metadata": {},
   "outputs": [
    {
     "ename": "SyntaxError",
     "evalue": "invalid syntax (<ipython-input-13-709a5600e5fe>, line 1)",
     "output_type": "error",
     "traceback": [
      "\u001b[1;36m  File \u001b[1;32m\"<ipython-input-13-709a5600e5fe>\"\u001b[1;36m, line \u001b[1;32m1\u001b[0m\n\u001b[1;33m    cat file8.txt\u001b[0m\n\u001b[1;37m            ^\u001b[0m\n\u001b[1;31mSyntaxError\u001b[0m\u001b[1;31m:\u001b[0m invalid syntax\n"
     ]
    }
   ],
   "source": [
    "cat file8.txt"
   ]
  },
  {
   "cell_type": "code",
   "execution_count": 14,
   "metadata": {},
   "outputs": [
    {
     "name": "stdout",
     "output_type": "stream",
     "text": [
      "File Created and Successfully data written\n"
     ]
    }
   ],
   "source": [
    "def appendData(filename):\n",
    "    f = open(filename,'a')\n",
    "    f.write(\"New Line 1 \\n\")\n",
    "    f.write(\"New Line 2 \\n\")\n",
    "    print(\"File Created and Successfully data written\")\n",
    "    f.close()\n",
    "    return\n",
    "appendData('file8.txt')"
   ]
  },
  {
   "cell_type": "code",
   "execution_count": 15,
   "metadata": {},
   "outputs": [
    {
     "name": "stdout",
     "output_type": "stream",
     "text": [
      "This is 0 Line\n",
      "This is 1 Line\n",
      "This is 2 Line\n",
      "This is 3 Line\n",
      "This is 4 Line\n",
      "This is 5 Line\n",
      "This is 6 Line\n",
      "This is 7 Line\n",
      "This is 8 Line\n",
      "This is 9 Line\n",
      "New Line 1 \n",
      "New Line 2 \n",
      "\n"
     ]
    }
   ],
   "source": [
    "# Function to read of the file\n",
    "def readFileData(filename):\n",
    "    f = open(filename,'r')\n",
    "    if f.mode == 'r':\n",
    "        x = f.read()\n",
    "        print(x)\n",
    "    f.close()\n",
    "    return\n",
    "readFileData('file8.txt')"
   ]
  },
  {
   "cell_type": "code",
   "execution_count": 19,
   "metadata": {},
   "outputs": [
    {
     "name": "stdout",
     "output_type": "stream",
     "text": [
      "Enter the file name : file8.txt\n",
      "Enter the word : This\n"
     ]
    },
    {
     "data": {
      "text/plain": [
       "10"
      ]
     },
     "execution_count": 19,
     "metadata": {},
     "output_type": "execute_result"
    }
   ],
   "source": [
    "#word count\n",
    "def wordCount(filename,word):\n",
    "    with open(filename,'r') as f:\n",
    "        if f.mode == 'r':\n",
    "            x = f.read()\n",
    "            li = x.split() # It's splits the string with whitespace\n",
    "    cnt = li.count(word)\n",
    "    return cnt\n",
    "filename = input('Enter the file name : ')\n",
    "word = input('Enter the word : ') # which word count you need\n",
    "wordCount(filename,word)\n",
    "\n"
   ]
  },
  {
   "cell_type": "code",
   "execution_count": 8,
   "metadata": {},
   "outputs": [
    {
     "name": "stdout",
     "output_type": "stream",
     "text": [
      "9\n",
      "189\n"
     ]
    }
   ],
   "source": [
    "#Write a python programming to print the Palindrome count between two limits\n",
    "def isPalindrome(n):\n",
    "    rev=0\n",
    "    buffer=n\n",
    "    while n!=0:\n",
    "        r=n%10\n",
    "        rev=rev*10+r\n",
    "        n=n//10\n",
    "    if rev==buffer:\n",
    "        return True\n",
    "    else:\n",
    "        return False\n",
    "    return\n",
    "def countPalindrome(lb,ub):\n",
    "    cnt=0\n",
    "    while lb!=ub:\n",
    "        #implement\n",
    "        if isPalindrome(lb)==True:\n",
    "            cnt=cnt+1\n",
    "        lb=lb+1\n",
    "    return cnt\n",
    "print(countPalindrome(1,10))\n",
    "print(countPalindrome(11,10000))\n"
   ]
  },
  {
   "cell_type": "code",
   "execution_count": null,
   "metadata": {},
   "outputs": [],
   "source": []
  }
 ],
 "metadata": {
  "kernelspec": {
   "display_name": "Python 3",
   "language": "python",
   "name": "python3"
  },
  "language_info": {
   "codemirror_mode": {
    "name": "ipython",
    "version": 3
   },
   "file_extension": ".py",
   "mimetype": "text/x-python",
   "name": "python",
   "nbconvert_exporter": "python",
   "pygments_lexer": "ipython3",
   "version": "3.7.3"
  }
 },
 "nbformat": 4,
 "nbformat_minor": 2
}
